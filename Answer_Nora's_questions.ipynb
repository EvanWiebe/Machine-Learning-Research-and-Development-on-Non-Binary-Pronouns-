{
  "nbformat": 4,
  "nbformat_minor": 0,
  "metadata": {
    "colab": {
      "provenance": []
    },
    "kernelspec": {
      "name": "python3",
      "display_name": "Python 3"
    },
    "language_info": {
      "name": "python"
    }
  },
  "cells": [
    {
      "cell_type": "code",
      "execution_count": null,
      "metadata": {
        "id": "tQ4ecQevs-SA"
      },
      "outputs": [],
      "source": [
        "import pandas as pd\n",
        "import nltk\n",
        "from nltk.tokenize import word_tokenize, sent_tokenize\n",
        "from nltk import pos_tag\n",
        "from nltk.corpus import stopwords\n",
        "from collections import Counter\n",
        "import networkx as nx\n",
        "from sklearn.feature_extraction.text import TfidfVectorizer\n",
        "from sklearn.decomposition import LatentDirichletAllocation\n",
        "\n",
        "# Load dataset\n",
        "comments_df = pd.read_csv(\"youtube_comments_dataset.csv\")\n",
        "\n",
        "# Text processing\n",
        "comments_df['tokenized_text'] = comments_df['comment_text'].apply(word_tokenize)\n",
        "comments_df['pos_tags'] = comments_df['tokenized_text'].apply(pos_tag)\n",
        "\n",
        "# Identify interactions\n",
        "reply_graph = nx.Graph()\n",
        "for index, row in comments_df.iterrows():\n",
        "    if row['reply'] == 'yes':\n",
        "        reply_graph.add_edge(row['commenter_name'], row['parent_commenter_name'])\n",
        "\n",
        "# Pronoun variation analysis\n",
        "pronouns = ['I', 'you', 'he', 'she', 'it', 'we', 'they']\n",
        "pronoun_counts = Counter()\n",
        "for tags in comments_df['pos_tags']:\n",
        "    for word, tag in tags:\n",
        "        if tag == 'PRP' and word.lower() in pronouns:\n",
        "            pronoun_counts[word.lower()] += 1\n",
        "\n",
        "# Theme extraction using TF-IDF\n",
        "tfidf_vectorizer = TfidfVectorizer(stop_words='english')\n",
        "tfidf_matrix = tfidf_vectorizer.fit_transform(comments_df['comment_text'])\n",
        "lda = LatentDirichletAllocation(n_components=5, random_state=42)\n",
        "lda.fit(tfidf_matrix)\n",
        "\n",
        "# Speaker identification\n",
        "speaker_groups = comments_df.groupby('commenter_name')\n",
        "\n",
        "# Example output\n",
        "print(\"Top pronouns used:\")\n",
        "print(pronoun_counts.most_common(5))\n",
        "\n",
        "# Example visualization\n",
        "import matplotlib.pyplot as plt\n",
        "\n",
        "nx.draw(reply_graph, with_labels=True)\n",
        "plt.show()\n",
        "\n"
      ]
    }
  ]
}